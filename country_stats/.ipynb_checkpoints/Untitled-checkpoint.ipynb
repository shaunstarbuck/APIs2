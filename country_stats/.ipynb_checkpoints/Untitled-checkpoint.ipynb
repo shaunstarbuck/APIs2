{
 "cells": [
  {
   "cell_type": "code",
   "execution_count": 1,
   "metadata": {},
   "outputs": [],
   "source": [
    "import sqlite3"
   ]
  },
  {
   "cell_type": "code",
   "execution_count": null,
   "metadata": {},
   "outputs": [],
   "source": []
  },
  {
   "cell_type": "code",
   "execution_count": 2,
   "metadata": {},
   "outputs": [],
   "source": [
    "db_file = 'data/countries.db'"
   ]
  },
  {
   "cell_type": "code",
   "execution_count": 4,
   "metadata": {},
   "outputs": [],
   "source": [
    "def dict_factory(cursor, row):\n",
    "    d = {}\n",
    "    for idx, col in enumerate(cursor.description):\n",
    "        d[col[0]] = row[idx]\n",
    "    return d"
   ]
  },
  {
   "cell_type": "code",
   "execution_count": 3,
   "metadata": {},
   "outputs": [
    {
     "ename": "NameError",
     "evalue": "name 'dict_factory' is not defined",
     "output_type": "error",
     "traceback": [
      "\u001b[1;31m---------------------------------------------------------------------------\u001b[0m",
      "\u001b[1;31mNameError\u001b[0m                                 Traceback (most recent call last)",
      "\u001b[1;32m<ipython-input-3-21d0c9d04619>\u001b[0m in \u001b[0;36m<module>\u001b[1;34m\u001b[0m\n\u001b[0;32m      1\u001b[0m \u001b[0mconn\u001b[0m \u001b[1;33m=\u001b[0m \u001b[0msqlite3\u001b[0m\u001b[1;33m.\u001b[0m\u001b[0mconnect\u001b[0m\u001b[1;33m(\u001b[0m\u001b[0mdb_file\u001b[0m\u001b[1;33m)\u001b[0m\u001b[1;33m\u001b[0m\u001b[1;33m\u001b[0m\u001b[0m\n\u001b[1;32m----> 2\u001b[1;33m \u001b[0mconn\u001b[0m\u001b[1;33m.\u001b[0m\u001b[0mrow_factory\u001b[0m \u001b[1;33m=\u001b[0m \u001b[0mdict_factory\u001b[0m\u001b[1;33m\u001b[0m\u001b[1;33m\u001b[0m\u001b[0m\n\u001b[0m\u001b[0;32m      3\u001b[0m \u001b[0mcur\u001b[0m \u001b[1;33m=\u001b[0m \u001b[0mconn\u001b[0m\u001b[1;33m.\u001b[0m\u001b[0mcursor\u001b[0m\u001b[1;33m(\u001b[0m\u001b[1;33m)\u001b[0m\u001b[1;33m\u001b[0m\u001b[1;33m\u001b[0m\u001b[0m\n\u001b[0;32m      4\u001b[0m \u001b[1;33m\u001b[0m\u001b[0m\n\u001b[0;32m      5\u001b[0m \u001b[0msql_select_all\u001b[0m \u001b[1;33m=\u001b[0m \u001b[1;34m\"SELECT * FROM countries\"\u001b[0m\u001b[1;33m\u001b[0m\u001b[1;33m\u001b[0m\u001b[0m\n",
      "\u001b[1;31mNameError\u001b[0m: name 'dict_factory' is not defined"
     ]
    }
   ],
   "source": [
    "conn = sqlite3.connect(db_file)\n",
    "conn.row_factory = dict_factory\n",
    "cur = conn.cursor()\n",
    "\n",
    "sql_select_all = \"SELECT * FROM countries\"\n",
    "all_countries = cur.execute(sql_select_all).fetchall()\n",
    "\n",
    "all_countries\n"
   ]
  },
  {
   "cell_type": "code",
   "execution_count": 10,
   "metadata": {},
   "outputs": [
    {
     "ename": "AttributeError",
     "evalue": "'str' object has no attribute 'to_dict'",
     "output_type": "error",
     "traceback": [
      "\u001b[1;31m---------------------------------------------------------------------------\u001b[0m",
      "\u001b[1;31mAttributeError\u001b[0m                            Traceback (most recent call last)",
      "\u001b[1;32m<ipython-input-10-d54477150ad6>\u001b[0m in \u001b[0;36m<module>\u001b[1;34m\u001b[0m\n\u001b[0;32m      1\u001b[0m \u001b[0mparams\u001b[0m \u001b[1;33m=\u001b[0m \u001b[1;34m\"?Country='Algeria'&Country='Angola'\"\u001b[0m\u001b[1;33m\u001b[0m\u001b[1;33m\u001b[0m\u001b[0m\n\u001b[1;32m----> 2\u001b[1;33m \u001b[0mparams_non_flat\u001b[0m \u001b[1;33m=\u001b[0m \u001b[0mparams\u001b[0m\u001b[1;33m.\u001b[0m\u001b[0mto_dict\u001b[0m\u001b[1;33m(\u001b[0m\u001b[0mflat\u001b[0m\u001b[1;33m=\u001b[0m\u001b[1;32mFalse\u001b[0m\u001b[1;33m)\u001b[0m\u001b[1;33m\u001b[0m\u001b[1;33m\u001b[0m\u001b[0m\n\u001b[0m\u001b[0;32m      3\u001b[0m \u001b[1;33m{\u001b[0m\u001b[0mk\u001b[0m\u001b[1;33m:\u001b[0m \u001b[0mv\u001b[0m \u001b[1;32mfor\u001b[0m \u001b[0mk\u001b[0m\u001b[1;33m,\u001b[0m\u001b[0mv\u001b[0m \u001b[1;32min\u001b[0m \u001b[0mparams_non_flat\u001b[0m\u001b[1;33m}\u001b[0m\u001b[1;33m\u001b[0m\u001b[1;33m\u001b[0m\u001b[0m\n",
      "\u001b[1;31mAttributeError\u001b[0m: 'str' object has no attribute 'to_dict'"
     ]
    }
   ],
   "source": []
  },
  {
   "cell_type": "code",
   "execution_count": 22,
   "metadata": {},
   "outputs": [
    {
     "data": {
      "text/plain": [
       "('Andorra',)"
      ]
     },
     "execution_count": 22,
     "metadata": {},
     "output_type": "execute_result"
    }
   ],
   "source": [
    "tuple(requested_countries)"
   ]
  },
  {
   "cell_type": "code",
   "execution_count": 48,
   "metadata": {},
   "outputs": [
    {
     "name": "stdout",
     "output_type": "stream",
     "text": [
      "'Andorra'\n",
      "derp:('Andorra',)\n"
     ]
    }
   ],
   "source": [
    "conn = sqlite3.connect(db_file)\n",
    "conn.row_factory = dict_factory\n",
    "cur = conn.cursor()\n",
    "\n",
    "#normalized_params = {\"Country\": [\"Algeria\", \"Andorra\"]}\n",
    "normalized_params = {\"Country\": \"Andorra\"}\n",
    "#normalized_params = {\"Continent\": \"North America\"}\n",
    "#normalized_params = {\"Country\": [\"Algeria\", \"Andorra\"], \"Continent\": \"North America\"}\n",
    "\n",
    "\n",
    "#Check if country was specified\n",
    "if(normalized_params.get('Country')):\n",
    "    requested_countries = normalized_params['Country']\n",
    "    #check if multiple values for country\n",
    "    if(type(requested_countries) == list):\n",
    "        country_sql_select = \"SELECT * FROM countries WHERE Country IN \" + str(tuple(requested_countries))\n",
    "    #Single value is a string\n",
    "    else:\n",
    "        #requested_country= \"\\'\"+requested_countries + \"\\'\"\n",
    "        #country_sql_select = \"SELECT * FROM countries WHERE Country = \" + requested_country\n",
    "        #country_sql_select = \"SELECT * FROM countries WHERE Country = '%(Country)s'\"\n",
    "        country_sql_select = \"SELECT * FROM countries WHERE Country = ?\"\n",
    "        requested_countries = (requested_countries,)\n",
    "       \n",
    " ## No country requested\n",
    "else:\n",
    "    country_sql_select = \"\"\n",
    "if(normalized_params.get('Continent')):\n",
    "    requested_continents = normalized_params['Continent']\n",
    "    #check if multiple values for country\n",
    "    if(type(requested_continents) == list):\n",
    "        continent_sql_select = \"SELECT * FROM countries WHERE Region IN \" + str(tuple(requested_continents))\n",
    "    #Single value is a string\n",
    "    else:\n",
    "        requested_continent = \"\\'\"+requested_continents + \"\\'\"\n",
    "        continent_sql_select = \"SELECT * FROM countries WHERE Region = \" + requested_continent\n",
    "# No country requested\n",
    "else:\n",
    "    continent_sql_select = \"\"    \n",
    "\n",
    "#Only countries or empty\n",
    "if(continent_sql_select == \"\"):\n",
    "    params_sql_select = country_sql_select\n",
    "#Only continents\n",
    "elif(country_sql_select == \"\"):\n",
    "    params_sql_select = continent_sql_select\n",
    "#Both countries and continents\n",
    "else:\n",
    "    params_sql_select = country_sql_select +\" UNION \" + continent_sql_select\n",
    "    print(params_sql_select)\n",
    "    \n",
    "params_sql_select += \";\"\n",
    "#requested_country_stats = cur.execute(params_sql_select).fetchall()\n",
    "print(\"derp:\"+str(requested_countries))\n",
    "requested_country_stats = cur.execute(params_sql_select, requested_countries).fetchall()\n",
    "\n",
    "\n",
    "conn.close()"
   ]
  },
  {
   "cell_type": "code",
   "execution_count": 49,
   "metadata": {},
   "outputs": [
    {
     "data": {
      "text/plain": [
       "[{'id': 5,\n",
       "  'Country': 'Andorra',\n",
       "  'Region': 'Europe',\n",
       "  'Population': 71201,\n",
       "  'Area': 468,\n",
       "  'Pop_Density': 152.1,\n",
       "  'Coastline_Ratio': 0.0,\n",
       "  'Net_Migration': 6.6,\n",
       "  'Infant_Mortality': 4.05,\n",
       "  'GDP_Per_Capita': 19000.0,\n",
       "  'Literacy': 100.0,\n",
       "  'Phones': 497.2,\n",
       "  'Arable': 2.22,\n",
       "  'Crops': 0.0,\n",
       "  'Other': 97.78,\n",
       "  'Climate': 3.0,\n",
       "  'Birthrate': 8.71,\n",
       "  'Deathrate': 6.25,\n",
       "  'Agriculture': None,\n",
       "  'Industry': None,\n",
       "  'Service': None}]"
      ]
     },
     "execution_count": 49,
     "metadata": {},
     "output_type": "execute_result"
    }
   ],
   "source": [
    "requested_country_stats"
   ]
  },
  {
   "cell_type": "code",
   "execution_count": 35,
   "metadata": {},
   "outputs": [
    {
     "data": {
      "text/plain": [
       "('Andorra',)"
      ]
     },
     "execution_count": 35,
     "metadata": {},
     "output_type": "execute_result"
    }
   ],
   "source": [
    "(normalized_params['Country'],)"
   ]
  },
  {
   "cell_type": "code",
   "execution_count": 9,
   "metadata": {},
   "outputs": [
    {
     "data": {
      "text/plain": [
       "\"SELECT * FROM countries WHERE Country IN ('A', 'n', 'd', 'o', 'r', 'r', 'a')\""
      ]
     },
     "execution_count": 9,
     "metadata": {},
     "output_type": "execute_result"
    }
   ],
   "source": [
    " \"SELECT * FROM countries WHERE Country IN \" + str(tuple(requested_countries))"
   ]
  },
  {
   "cell_type": "code",
   "execution_count": 31,
   "metadata": {},
   "outputs": [
    {
     "data": {
      "text/plain": [
       "str"
      ]
     },
     "execution_count": 31,
     "metadata": {},
     "output_type": "execute_result"
    }
   ],
   "source": [
    "normalized_params = {\"Country\": \"Andorra\"}\n",
    "\n",
    "\n",
    "requested_countries = normalized_params['Country']\n",
    "type(requested_countries)"
   ]
  },
  {
   "cell_type": "code",
   "execution_count": null,
   "metadata": {},
   "outputs": [],
   "source": []
  },
  {
   "cell_type": "code",
   "execution_count": 9,
   "metadata": {},
   "outputs": [
    {
     "ename": "SyntaxError",
     "evalue": "invalid syntax (<ipython-input-9-95480fd9ba58>, line 2)",
     "output_type": "error",
     "traceback": [
      "\u001b[1;36m  File \u001b[1;32m\"<ipython-input-9-95480fd9ba58>\"\u001b[1;36m, line \u001b[1;32m2\u001b[0m\n\u001b[1;33m    continent_sql_select  = \"SELECT Region, SUM(Population), SUM(Area), AVG(Pop_Density)\"+\u001b[0m\n\u001b[1;37m                                                                                          ^\u001b[0m\n\u001b[1;31mSyntaxError\u001b[0m\u001b[1;31m:\u001b[0m invalid syntax\n"
     ]
    }
   ],
   "source": [
    "requested_continent = \"Africa\"\n",
    "continent_sql_select  = \"SELECT Region, SUM(Population), SUM(Area), AVG(Pop_Density)\"+\n",
    "                        \"FROM countries WHERE Region = \" + requested_continent + \" GROUP BY \" + requested_continent  \n",
    "  "
   ]
  },
  {
   "cell_type": "code",
   "execution_count": 10,
   "metadata": {},
   "outputs": [
    {
     "data": {
      "text/plain": [
       "'SELECT Region, SUM(Population), SUM(Area), AVG(Pop_Density), FROM countries WHERE Region = Africa GROUP BY Africa'"
      ]
     },
     "execution_count": 10,
     "metadata": {},
     "output_type": "execute_result"
    }
   ],
   "source": [
    "continent_sql_select"
   ]
  },
  {
   "cell_type": "code",
   "execution_count": null,
   "metadata": {},
   "outputs": [],
   "source": []
  }
 ],
 "metadata": {
  "kernelspec": {
   "display_name": "Python 3",
   "language": "python",
   "name": "python3"
  },
  "language_info": {
   "codemirror_mode": {
    "name": "ipython",
    "version": 3
   },
   "file_extension": ".py",
   "mimetype": "text/x-python",
   "name": "python",
   "nbconvert_exporter": "python",
   "pygments_lexer": "ipython3",
   "version": "3.7.6"
  }
 },
 "nbformat": 4,
 "nbformat_minor": 4
}
